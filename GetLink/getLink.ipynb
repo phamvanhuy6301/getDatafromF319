{
 "cells": [
  {
   "cell_type": "code",
   "execution_count": null,
   "metadata": {},
   "outputs": [],
   "source": [
    "from urllib.request import urlopen\n",
    "from urllib.parse import urlparse\n",
    "from bs4 import BeautifulSoup\n",
    "import re\n",
    "import datetime\n",
    "import random\n",
    "from urllib.error import URLError\n",
    "from urllib.error import HTTPError\n"
   ]
  },
  {
   "cell_type": "code",
   "execution_count": null,
   "metadata": {},
   "outputs": [],
   "source": [
    "import ssl\n",
    "ssl_context = ssl.create_default_context()\n",
    "ssl_context.check_hostname = False\n",
    "ssl_context.verify_mode = ssl.CERT_NONE"
   ]
  },
  {
   "cell_type": "code",
   "execution_count": null,
   "metadata": {},
   "outputs": [],
   "source": [
    "def CheckLinkError(url): \n",
    "    try:\n",
    "        response = urlopen(url, context=ssl_context)\n",
    "        html_data = response.read().decode('utf-8')\n",
    "        return 0\n",
    "    except URLError as e:\n",
    "            return 1"
   ]
  },
  {
   "cell_type": "code",
   "execution_count": null,
   "metadata": {},
   "outputs": [],
   "source": [
    "def getTopicLink(bs, domain): \n",
    "    TopicLink = []\n",
    "    DivTopic = bs.find('ol', class_= \"discussionListItems\")\n",
    "    for link in DivTopic.find_all('a', href= re.compile('^(thread)((?!page).)*$')): \n",
    "        if link.attrs['href'] is not None:\n",
    "            newlink = domain + '/' +link.attrs['href']\n",
    "            checkLink = CheckLinkError(newlink)\n",
    "            if checkLink == 0: \n",
    "                if newlink not in TopicLink:\n",
    "                    TopicLink.append(newlink)\n",
    "    return TopicLink"
   ]
  },
  {
   "cell_type": "code",
   "execution_count": null,
   "metadata": {},
   "outputs": [],
   "source": [
    "def removeLinkerror(lstAccountLinks): \n",
    "    linkerror = []\n",
    "    for i in range(len(lstAccountLinks)): \n",
    "        url = lstAccountLinks[i]\n",
    "        try:\n",
    "            response = urlopen(url, context=ssl_context)\n",
    "            html_data = response.read().decode('utf-8')\n",
    "        except URLError as e:\n",
    "            linkerror.append(i)\n",
    "    result = lstAccountLinks\n",
    "    for index in sorted(linkerror, reverse=True):\n",
    "        del result[index]\n",
    "    return result"
   ]
  },
  {
   "cell_type": "code",
   "execution_count": null,
   "metadata": {},
   "outputs": [],
   "source": [
    "from urllib.request import urlopen\n",
    "from bs4 import BeautifulSoup\n",
    "from tqdm import tqdm\n",
    "TopicLink = set()\n",
    "for i in tqdm(range(10000)): \n",
    "    url = 'https://f319.com/forums/thi-truong-chung-khoan.3/page-' + str(i)\n",
    "    try: \n",
    "        html = urlopen(url, context=ssl_context)\n",
    "    except Exception: \n",
    "        pass \n",
    "    bs = BeautifulSoup(html, 'html.parser')\n",
    "    domain = '{}://{}'.format(urlparse(url).scheme, urlparse(url).netloc)\n",
    "    newTopic = getTopicLink(bs, domain)\n",
    "    TopicLink.update(newTopic)\n"
   ]
  },
  {
   "cell_type": "code",
   "execution_count": null,
   "metadata": {},
   "outputs": [],
   "source": [
    "TopicLink = list(TopicLink)\n",
    "TopicLink = removeLinkerror(TopicLink)"
   ]
  },
  {
   "cell_type": "code",
   "execution_count": null,
   "metadata": {},
   "outputs": [],
   "source": [
    "import pandas as pd\n",
    "dataLink = pd.DataFrame()\n",
    "dataLink['Link'] = TopicLink\n",
    "dataLink.to_csv('TopicLink.csv')"
   ]
  }
 ],
 "metadata": {
  "language_info": {
   "name": "python"
  },
  "orig_nbformat": 4
 },
 "nbformat": 4,
 "nbformat_minor": 2
}
